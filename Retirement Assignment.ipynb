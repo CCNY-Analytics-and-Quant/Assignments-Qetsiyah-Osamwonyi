{
 "cells": [
  {
   "cell_type": "code",
   "execution_count": 12,
   "id": "89b5e7f5-286d-4d07-9b57-ac25034e9f2e",
   "metadata": {},
   "outputs": [
    {
     "name": "stdin",
     "output_type": "stream",
     "text": [
      "How old are you?  23\n",
      "how old will you be when you retire?  70\n",
      "How much do you have in you account (retirement) right now?  0\n",
      "What is the ticker for your benchmark return?  SPY\n"
     ]
    },
    {
     "name": "stdout",
     "output_type": "stream",
     "text": [
      "[*********************100%***********************]  1 of 1 completed\n"
     ]
    },
    {
     "name": "stdin",
     "output_type": "stream",
     "text": [
      "How much will you be adding (percent-wise) to your 401k annually?  10\n",
      "How much will your job match (percent-wise)?  8\n",
      "What is your salary?  90000\n",
      "How much does your salary go up on an annual basis?  3\n",
      "How often do you expect to be promoted?  4\n",
      "How much does your salary go up (percent-wise) on an annual basis if you get the promotion?  5\n"
     ]
    },
    {
     "name": "stdout",
     "output_type": "stream",
     "text": [
      "In 2092 , you will have $79773309.129 in your retirement account. This is 47 years from now, as you wanted to retire at the age of 70\n"
     ]
    }
   ],
   "source": [
    "import yfinance as yf\n",
    "\n",
    "cAge = int(input(\"How old are you? \"))\n",
    "rAge = int(input(\"how old will you be when you retire? \"))\n",
    "cBalance = int(input(\"How much do you have in you account (retirement) right now? \"))\n",
    "\n",
    "bench = input(\"What is the ticker for your benchmark return? \")\n",
    "price = yf.download(bench, period=\"10y\")[\"Adj Close\"]\n",
    "ret = price.pct_change(251).mean()\n",
    "\n",
    "annIstPer = (int(input(\"How much will you be adding (percent-wise) to your 401k annually? \"))/ 100)\n",
    "matchPer = int(input(\"How much will your job match (percent-wise)? \"))\n",
    "annualSalary = int(input(\"What is your salary? \"))\n",
    "\n",
    "salIncrPer = (int(input(\"How much does your salary go up on an annual basis? \")) / 100)\n",
    "\n",
    "promoTimes = int(input(\"How often do you expect to be promoted? \"))\n",
    "salIncrPromoPer = (int(input(\"How much does your salary go up (percent-wise) on an annual basis if you get the promotion? \")) / 100\n",
    ")\n",
    "\n",
    "\n",
    "x=0\n",
    "\n",
    "\n",
    "for year in range(cAge, rAge):\n",
    "    \n",
    "    annualSalary = annualSalary * (1 + salIncrPer)\n",
    "    if x % promoTimes == 0:\n",
    "        annualSalary = annualSalary * (1 + salIncrPromoPer)\n",
    "    installment = annualSalary * annIstPer\n",
    "    match = annualSalary * matchPer\n",
    "    if installment < match:\n",
    "        match = installment\n",
    "    cBalance = cBalance * (1 + ret) + installment + match\n",
    "    \n",
    "    x+=1\n",
    "print(\"In {} , you will have ${} in your retirement account. This is {} years from now, as you wanted to retire at the age of {}\" .format(year+1+2022, cBalance.round(3),x,rAge ))\n"
   ]
  },
  {
   "cell_type": "code",
   "execution_count": null,
   "id": "49e5b9f9-a24c-4ac3-b693-14db6c927bfb",
   "metadata": {},
   "outputs": [],
   "source": []
  }
 ],
 "metadata": {
  "kernelspec": {
   "display_name": "Python 3 (ipykernel)",
   "language": "python",
   "name": "python3"
  },
  "language_info": {
   "codemirror_mode": {
    "name": "ipython",
    "version": 3
   },
   "file_extension": ".py",
   "mimetype": "text/x-python",
   "name": "python",
   "nbconvert_exporter": "python",
   "pygments_lexer": "ipython3",
   "version": "3.8.13"
  }
 },
 "nbformat": 4,
 "nbformat_minor": 5
}
