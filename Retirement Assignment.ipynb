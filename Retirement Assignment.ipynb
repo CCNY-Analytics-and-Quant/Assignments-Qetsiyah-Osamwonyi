{
 "cells": [
  {
   "cell_type": "code",
   "execution_count": 27,
   "id": "95b52e7f-b57a-4fde-8be5-f0ec2a9a8d74",
   "metadata": {},
   "outputs": [
    {
     "name": "stdin",
     "output_type": "stream",
     "text": [
      "What is your current age?  23\n",
      "What is the current value of your retirement account?  5400\n",
      "How much money you need to retire? 2000000000\n",
      "What is the return rate (in terms of percentage)? 5\n",
      "How much money will you be putting into the account annually? 200\n"
     ]
    },
    {
     "name": "stdout",
     "output_type": "stream",
     "text": [
      "\n",
      "Given current constrictions, you will be 275 years old to retire with $2000000000 which will actually be $2055087766.14 at that age.\n"
     ]
    }
   ],
   "source": [
    "current_age = int(input(\"What is your current age? \")) \n",
    "acct_balance = int(input(\"What is the current value of your retirement account? \")) \n",
    "\n",
    "\n",
    "required_value_for_retirement = int(input(\"How much money you need to retire?\")) \n",
    "return_rate = (float(input(\"What is the return rate (in terms of percentage)?\")))/100\n",
    "deposit = int(input(\"How much money will you be putting into the account annually?\"))\n",
    "\n",
    "retirements \n",
    "while acct_balance < required_value_for_retirement:\n",
    "    acct_balance = acct_balance * (1 + return_rate) + deposit\n",
    "    current_age += 1\n",
    "\n",
    "\n",
    "print(\"\\nGiven current constrictions, you will be at least\"+str(current_age)+\" years old to retire with $\"+str(required_value_for_retirement)+\n",
    "      \" to which will actually be $\"+str(round(acct_balance, 2))+\" at that age.\")\n"
   ]
  },
  {
   "cell_type": "code",
   "execution_count": 31,
   "id": "314ee92a-8792-49fd-826b-3db3048e5701",
   "metadata": {},
   "outputs": [],
   "source": [
    "import yfinance as yf"
   ]
  },
  {
   "cell_type": "code",
   "execution_count": 41,
   "id": "89b5e7f5-286d-4d07-9b57-ac25034e9f2e",
   "metadata": {},
   "outputs": [],
   "source": [
    "def val_at_retire():\n",
    "    current_age = int(input(\"What is your current age? \"))\n",
    "    retire_age = int(input(\"What is your expected retirement age? \"))\n",
    "    year_end_value = int(\n",
    "        input(\"What is the current value of your retirement account? \")\n",
    "    )\n",
    "\n",
    "    # Calculate average annual return of the benchmark\n",
    "    benchmark = input(\"What is the ticker for your benchmark return? \")\n",
    "    bench_close = yf.download(benchmark, period=\"10y\")[\"Adj Close\"]\n",
    "    return_rate = bench_close.pct_change(251).mean()\n",
    "\n",
    "    # Calculate annual contribution w/401k matching\n",
    "    deposit_pct = (\n",
    "        int(\n",
    "            input(\n",
    "                \"What percentage of your base salary will you be contributing to your 401k every year? \"\n",
    "            )\n",
    "        )\n",
    "        / 100\n",
    "    )\n",
    "    four01k_pct = int(input(\"What is the percentage employer match? \"))\n",
    "    salary = int(input(\"What is your current salary? \"))\n",
    "\n",
    "    # Expected increase in salary\n",
    "    salary_rise_rate = (\n",
    "        int(input(\"What is your expected annual percentage salary increase? \")) / 100\n",
    "    )\n",
    "\n",
    "    # Expected promotion rate:\n",
    "    promotion_freq = int(input(\"How often do you expect to be promoted? \"))\n",
    "    promotion_rate = (\n",
    "        int(input(\"What percentage increase do you expect from the promotion? \")) / 100\n",
    "    )\n",
    "    # Create iterative value\n",
    "    i = 0\n",
    "\n",
    "    counter=0\n",
    "    \n",
    "    for every_year in range(current_age, retire_age):\n",
    "        # Calculate salary\n",
    "        salary = salary * (1 + salary_rise_rate)\n",
    "\n",
    "        # Calculate promotions\n",
    "        if i % promotion_freq == 0:\n",
    "            salary = salary * (1 + promotion_rate)\n",
    "\n",
    "        # Calculate annual contributions\n",
    "        deposit = salary * deposit_pct\n",
    "        four01k_match = salary * four01k_pct\n",
    "\n",
    "        # Check that match is not greater than the deposit\n",
    "        if deposit < four01k_match:\n",
    "            four01k_match = deposit\n",
    "\n",
    "        year_end_value = year_end_value * (1 + return_rate) + deposit + four01k_match\n",
    "\n",
    "        i += 1\n",
    "        counter+=1\n",
    "    return (every_year + 1, year_end_value, counter)"
   ]
  },
  {
   "cell_type": "code",
   "execution_count": 42,
   "id": "b2cade40-59a6-499e-a073-f86959278ca9",
   "metadata": {},
   "outputs": [
    {
     "name": "stdin",
     "output_type": "stream",
     "text": [
      "What is your current age?  20\n",
      "What is your expected retirement age?  80\n",
      "What is the current value of your retirement account?  3000\n",
      "What is the ticker for your benchmark return?  aapl\n"
     ]
    },
    {
     "name": "stdout",
     "output_type": "stream",
     "text": [
      "[*********************100%***********************]  1 of 1 completed\n"
     ]
    },
    {
     "name": "stdin",
     "output_type": "stream",
     "text": [
      "What percentage of your base salary will you be contributing to your 401k every year?  5\n",
      "What is the percentage employer match?  3\n",
      "What is your current salary?  70000\n",
      "What is your expected annual percentage salary increase?  3\n",
      "How often do you expect to be promoted?  3\n",
      "What percentage increase do you expect from the promotion?  2\n"
     ]
    },
    {
     "data": {
      "text/plain": [
       "(80, 1101521585316.5332, 60)"
      ]
     },
     "execution_count": 42,
     "metadata": {},
     "output_type": "execute_result"
    }
   ],
   "source": [
    "val_at_retire()"
   ]
  },
  {
   "cell_type": "code",
   "execution_count": 39,
   "id": "1939d912-fe2f-45b9-95a2-457ed2365fcf",
   "metadata": {},
   "outputs": [
    {
     "ename": "NameError",
     "evalue": "name 'counter' is not defined",
     "output_type": "error",
     "traceback": [
      "\u001b[1;31m---------------------------------------------------------------------------\u001b[0m",
      "\u001b[1;31mNameError\u001b[0m                                 Traceback (most recent call last)",
      "Cell \u001b[1;32mIn [39], line 1\u001b[0m\n\u001b[1;32m----> 1\u001b[0m \u001b[43mcounter\u001b[49m\n",
      "\u001b[1;31mNameError\u001b[0m: name 'counter' is not defined"
     ]
    }
   ],
   "source": [
    "counter\n"
   ]
  }
 ],
 "metadata": {
  "kernelspec": {
   "display_name": "Python 3 (ipykernel)",
   "language": "python",
   "name": "python3"
  },
  "language_info": {
   "codemirror_mode": {
    "name": "ipython",
    "version": 3
   },
   "file_extension": ".py",
   "mimetype": "text/x-python",
   "name": "python",
   "nbconvert_exporter": "python",
   "pygments_lexer": "ipython3",
   "version": "3.8.13"
  }
 },
 "nbformat": 4,
 "nbformat_minor": 5
}
